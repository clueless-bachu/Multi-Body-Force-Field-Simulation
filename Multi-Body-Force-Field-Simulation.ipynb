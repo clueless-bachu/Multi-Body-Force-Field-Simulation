{
 "cells": [
  {
   "cell_type": "markdown",
   "metadata": {},
   "source": [
    "# Multi-Body Force Field Simulation \n",
    "\n",
    "## Motivation\n",
    "\n",
    "To create a model where N bodies react with each other under the influence of Newtonian Model\n",
    "\n",
    "## Method\n",
    "Used the square inverse law of gravity to find the force for each body and double integrated them using euler integration\n",
    "\n",
    "$\\vec F_i = \\dfrac{Gm_im_j}{|\\vec r_i - \\vec r_j|^3}(\\vec r_i - \\vec r_j)$\n",
    "\n",
    "$\\vec V_i = \\int \\dfrac{\\vec F_i}{m_i} dt$\n",
    "\n",
    "$\\vec P_i = \\int \\vec V_i dt$\n",
    "\n",
    "and using perfectly inelastic model for collisions to determine velocities\n",
    "\n",
    "$u_{final} = \\dfrac{m_iu_i+m_ju_j}{m_i+m_j}$ \n",
    "\n",
    "for i in 0 to N \n",
    "\n",
    "and j in i to N\n",
    "\n",
    "## What result I got\n",
    "\n",
    "Can Simulate multiple bodies under the influence of gravity. Inelastic collision model is working. Set up a error calculation model based on energy\n",
    "\n",
    "## Possible Future work\n",
    "\n",
    "Use time series information of positions of N-1 bodies to find the $N^{th}$ body\n",
    "\n",
    "\n",
    "Fix the error in inelastic model\n",
    "\n",
    "## Errors\n",
    "\n",
    "Multiple collision in a single timestep has not been possible"
   ]
  },
  {
   "cell_type": "code",
   "execution_count": 8,
   "metadata": {},
   "outputs": [],
   "source": [
    "## Calling all required libraries  \n",
    "import numpy as np\n",
    "import matplotlib.pyplot as plt\n",
    "from tqdm import tqdm_notebook\n",
    "%matplotlib tk"
   ]
  },
  {
   "cell_type": "code",
   "execution_count": 9,
   "metadata": {},
   "outputs": [],
   "source": [
    "class body:\n",
    "    '''\n",
    "    The class creates an object representing a spherical particle with mass and radius along with initial conditions \n",
    "    '''\n",
    "    def __init__(self,m,r,pos,vel):\n",
    "        self.m=m\n",
    "        self.r=r\n",
    "        self.pos=np.array(pos)\n",
    "        self.vel=np.array(vel)\n",
    "        \n",
    "    def collision(field):\n",
    "        '''\n",
    "        Add the perfectly inelastic collision mechanics and return energy residuals\n",
    "        \n",
    "        Input: A field object with N number of bodies under the influence of grvity\n",
    "        \n",
    "        '''\n",
    "        energy = field.sys_energy(0)\n",
    "        for i,x in enumerate(field.bodies):\n",
    "            for j,y in enumerate(field.bodies[i+1:]):\n",
    "                j=j+i+1\n",
    "#                 print(i,j)\n",
    "                if np.linalg.norm(field.pos[i]-field.pos[j])<x.r+y.r:\n",
    "                    x.vel = (x.m*x.vel+y.m*y.vel)/(x.m+y.m)\n",
    "                    field.vel[i]=x.vel \n",
    "                    x.m+=y.m\n",
    "                    x.r= (x.r**3+y.r**3)**(1/3)\n",
    "                    field.bodies= np.delete(field.bodies,j,0)\n",
    "                    field.pos= np.delete(field.pos,j,0)\n",
    "                    field.vel= np.delete(field.vel,j,0)\n",
    "        if energy != field.sys_energy(0):\n",
    "            field.E_res+= energy -  field.sys_energy(0)\n",
    "            print(field.E_res)\n",
    "        \n",
    "class field:\n",
    "    '''\n",
    "    Creates an object that represents a field with various forces acting on it\n",
    "    '''\n",
    "    def __init__(self,bodies):\n",
    "        G=1\n",
    "        self.bodies= np.array(bodies)\n",
    "        self.mass = (np.array([[i.m for i in self.bodies] for j in self.bodies]))\n",
    "        self.pos=(np.array([i.pos for i in self.bodies]))\n",
    "        self.vel=(np.array([i.vel for i in self.bodies]))\n",
    "        self.E_res = 0\n",
    "    def gravity_field(self): \n",
    "        \n",
    "        '''\n",
    "        Computes the force of gravity acting on each particle\n",
    "\n",
    "        input: the field object\n",
    "\n",
    "        returns: array of forces for each body in the field\n",
    "        '''\n",
    "        acc=np.zeros((len(self.bodies),2))\n",
    "        for index,body in enumerate(self.bodies):\n",
    "            magnitude= np.array([G*i.m for i in self.bodies if i!=body])\n",
    "            direction=np.array([(-self.pos[index]+i)/np.linalg.norm((self.pos[index]-i))**3 for i in self.pos \\\n",
    "                                if (np.array_equal(self.pos[index],i))!=1])\n",
    "            acc[index]=np.matmul(magnitude,direction)\n",
    "            \n",
    "        return acc\n",
    "    \n",
    "    def electric_field(self):\n",
    "        \n",
    "        '''\n",
    "        Computes force due to charges (FUTURE POSSIBLE WORK)\n",
    "        '''\n",
    "        acc =np.zeros((len(self.bodies),2))\n",
    "        ## add if electric field exists ##\n",
    "        return acc\n",
    "            \n",
    "    def field_update(self,dt):\n",
    "        \n",
    "        '''\n",
    "        Updates the state of each object in the field after a timestep using  EULER INTEGRATION\n",
    "\n",
    "        input: The field object and the timestep\n",
    "        '''\n",
    "    \n",
    "        acc=(self.gravity_field()+self.electric_field())\n",
    "        self.pos= self.pos + self.vel*dt + acc*dt**2/2\n",
    "        self.vel=self.vel + acc*dt\n",
    "        for i,body in enumerate(self.bodies):\n",
    "            body.pos= self.pos[i]\n",
    "            body.vel= self.vel[i]\n",
    "        \n",
    "    def sys_momentum(self):\n",
    "        '''\n",
    "        Prints the total vectorial momentum of all objects in the field\n",
    "        \n",
    "        input: The field object\n",
    "        '''\n",
    "        self.mass = (np.array([[i.m for i in self.bodies] for j in self.bodies]))\n",
    "        print(\"The total momentum is \", np.matmul(self.mass,self.vel).sum(axis=0))\n",
    "\n",
    "    def sys_energy(self,verbose = 1):\n",
    "        '''\n",
    "        Computes the kinetic, potential and total energy of the system\n",
    "        \n",
    "        input: \n",
    "        field object\n",
    "        verbose: to print the values of each type of energy\n",
    "        \n",
    "        returns: The energy of the system\n",
    "        '''\n",
    "        self.mass = (np.array([[i.m for i in self.bodies] for j in self.bodies]))\n",
    "        kinetic= np.sum(np.matmul(self.mass,self.vel*self.vel))/2\n",
    "        potential = 0\n",
    "        for i,x in enumerate(self.bodies):\n",
    "            for j,y in enumerate(self.bodies[i+1:]):\n",
    "                j=j+i+1\n",
    "                potential -= G*x.m*y.m/np.linalg.norm(self.pos[i]-self.pos[j])\n",
    "        if verbose:\n",
    "            print(\"Kinetic:\",kinetic)\n",
    "            print(\"Potential:\",potential)\n",
    "            print(\"Total:\",kinetic + potential+self.E_res)\n",
    "        \n",
    "        return kinetic + potential + self.E_res\n",
    "    \n",
    "    def body_finder(self):\n",
    "        '''\n",
    "        Uses to positions of N-1 objects to find position of Nth object (FUTURE WORK)\n",
    "        '''\n",
    "        pass"
   ]
  },
  {
   "cell_type": "code",
   "execution_count": 10,
   "metadata": {},
   "outputs": [
    {
     "name": "stdout",
     "output_type": "stream",
     "text": [
      "Kinetic: 0.735\n",
      "Potential: -0.43562382557757123\n",
      "Total: 0.29937617442242875\n"
     ]
    },
    {
     "data": {
      "application/vnd.jupyter.widget-view+json": {
       "model_id": "b43a706ecd544291b8b60e44af9af18b",
       "version_major": 2,
       "version_minor": 0
      },
      "text/plain": [
       "HBox(children=(IntProgress(value=0, max=100000), HTML(value='')))"
      ]
     },
     "metadata": {},
     "output_type": "display_data"
    },
    {
     "name": "stdout",
     "output_type": "stream",
     "text": [
      "0.727878323882563\n",
      "\n",
      "Kinetic: 0.3257389436338295\n",
      "Potential: -0.3691356346367855\n",
      "Total: 0.6844816328796071\n"
     ]
    }
   ],
   "source": [
    "# Setting up the Gravitational constant\n",
    "G=10**-3.5\n",
    "iterations=100000\n",
    "time_step = 0.001\n",
    "\n",
    "# Initializing the solar system or the field of particles\n",
    "solar_system= field([body(100,0.01,[0,0],[0,-0.015]),body(10,0.01,[1,0],[0,0.15]),body(1,0.01,[0.5,0],[0.2,0.2]),\\\n",
    "             body(1,0.01,[0.5,0.5],[0.2,0]),])\n",
    "solar_system.sys_energy(1)\n",
    "pos=[]\n",
    "## Running the simulations number of iterations\n",
    "for _ in tqdm_notebook(range(iterations)):\n",
    "    solar_system.field_update(time_step)\n",
    "    body.collision(solar_system)\n",
    "    pos.append(solar_system.pos)\n",
    "    \n",
    "# Computing the total energy before and after simulation to calculate the error\n",
    "solar_system.sys_energy(1)\n",
    "pos=np.array(pos)"
   ]
  },
  {
   "cell_type": "code",
   "execution_count": null,
   "metadata": {},
   "outputs": [],
   "source": [
    "pos=pos[::200]"
   ]
  },
  {
   "cell_type": "code",
   "execution_count": 31,
   "metadata": {
    "scrolled": false
   },
   "outputs": [
    {
     "data": {
      "application/vnd.jupyter.widget-view+json": {
       "model_id": "bea5f6c8ae2c497b8115a6fa81411a28",
       "version_major": 2,
       "version_minor": 0
      },
      "text/plain": [
       "HBox(children=(IntProgress(value=0, max=500), HTML(value='')))"
      ]
     },
     "metadata": {},
     "output_type": "display_data"
    }
   ],
   "source": [
    "fig, ax = plt.subplots()\n",
    "for i in tqdm_notebook(range(len(pos))):\n",
    "    ax.axis([-2, 2, -2, 2])\n",
    "    x= pos[i][:,0]\n",
    "    y= pos[i][:,1]\n",
    "    ax.scatter(x,y,s=4,color='b')\n",
    "    fig.canvas.draw()\n",
    "    plt.pause(0.001)\n",
    "    fig.canvas.flush_events()\n",
    "    plt.cla()"
   ]
  },
  {
   "cell_type": "code",
   "execution_count": null,
   "metadata": {},
   "outputs": [],
   "source": []
  }
 ],
 "metadata": {
  "kernelspec": {
   "display_name": "Python 3",
   "language": "python",
   "name": "python3"
  },
  "language_info": {
   "codemirror_mode": {
    "name": "ipython",
    "version": 3
   },
   "file_extension": ".py",
   "mimetype": "text/x-python",
   "name": "python",
   "nbconvert_exporter": "python",
   "pygments_lexer": "ipython3",
   "version": "3.6.5"
  }
 },
 "nbformat": 4,
 "nbformat_minor": 2
}
